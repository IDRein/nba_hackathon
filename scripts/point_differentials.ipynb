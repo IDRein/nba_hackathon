{
 "cells": [
  {
   "cell_type": "code",
   "execution_count": 62,
   "metadata": {},
   "outputs": [],
   "source": [
    "import pandas as pd\n",
    "from collections import deque"
   ]
  },
  {
   "cell_type": "code",
   "execution_count": 53,
   "metadata": {},
   "outputs": [],
   "source": [
    "plays = pd.read_csv('../data/play_by_play.txt', delimiter = \"\\t\")\n",
    "lineup = pd.read_csv('../data/lineup.txt', delimiter = \"\\t\").sort_values(['Game_id', 'Period', 'Team_id'], \n",
    "                                                                         ascending = [True, True, True])\n",
    "plays = plays.sort_values(['Game_id', 'Period', 'PC_Time', 'WC_Time', 'Event_Num'], \n",
    "                 axis = 0, ascending = [True, True, False, True, True]).drop(['Team_id_type', 'Option2', 'Option3'], axis = 1)\n",
    "game_ids = plays['Game_id'].unique().tolist()\n",
    "lineup0 = lineup[lineup.Game_id == game_ids[0]].reset_index()\n",
    "df = plays[plays.Game_id == game_ids[0]]\n",
    "# something with views if error in future"
   ]
  },
  {
   "cell_type": "code",
   "execution_count": 68,
   "metadata": {},
   "outputs": [
    {
     "name": "stdout",
     "output_type": "stream",
     "text": [
      "['881f83d2dee3f18c7d1751659406144e', 'cec898a1d355dbfbad8c760615fde1af', 'a99f44bbff39e352191a870e17f04537', '89706b99ddd00dc05d37ef5cafc04276', '2b313e2bcef0268bc8e9415132ba9997']\n",
      "['27ea17a8685c4919f157e83fe9cb2d9e', '57bbd7e30bc694aeee9ee40c583e6811', '33963fe856a1523ff46438ba07d1d99f', 'c00264c3114d23bac482e9de50fb7d28', '307beab25b1021a548b4a47550bc4b25']\n",
      "cff694c8186a4bd377de400e4f60fe47\n",
      "cff694c8186a4bd377de400e4f60fe47\n",
      "89706b99ddd00dc05d37ef5cafc04276\n",
      "['27ea17a8685c4919f157e83fe9cb2d9e', '57bbd7e30bc694aeee9ee40c583e6811', '33963fe856a1523ff46438ba07d1d99f', 'c00264c3114d23bac482e9de50fb7d28', '307beab25b1021a548b4a47550bc4b25']\n"
     ]
    },
    {
     "ename": "ValueError",
     "evalue": "list.remove(x): x not in list",
     "output_type": "error",
     "traceback": [
      "\u001b[1;31m---------------------------------------------------------------------------\u001b[0m",
      "\u001b[1;31mValueError\u001b[0m                                Traceback (most recent call last)",
      "\u001b[1;32m<ipython-input-68-eed9149d7127>\u001b[0m in \u001b[0;36m<module>\u001b[1;34m()\u001b[0m\n\u001b[0;32m     41\u001b[0m                 \u001b[0mprint\u001b[0m\u001b[1;33m(\u001b[0m\u001b[0mperson1\u001b[0m\u001b[1;33m)\u001b[0m\u001b[1;33m\u001b[0m\u001b[0m\n\u001b[0;32m     42\u001b[0m                 \u001b[0mprint\u001b[0m\u001b[1;33m(\u001b[0m\u001b[0mt2Active\u001b[0m\u001b[1;33m)\u001b[0m\u001b[1;33m\u001b[0m\u001b[0m\n\u001b[1;32m---> 43\u001b[1;33m                 \u001b[0mt2Active\u001b[0m\u001b[1;33m.\u001b[0m\u001b[0mremove\u001b[0m\u001b[1;33m(\u001b[0m\u001b[0mperson1\u001b[0m\u001b[1;33m)\u001b[0m\u001b[1;33m\u001b[0m\u001b[0m\n\u001b[0m\u001b[0;32m     44\u001b[0m                 \u001b[0mt2Active\u001b[0m\u001b[1;33m.\u001b[0m\u001b[0mappend\u001b[0m\u001b[1;33m(\u001b[0m\u001b[0mperson2\u001b[0m\u001b[1;33m)\u001b[0m\u001b[1;33m\u001b[0m\u001b[0m\n\u001b[0;32m     45\u001b[0m                 \u001b[1;32mif\u001b[0m \u001b[0mperson2\u001b[0m \u001b[1;32mnot\u001b[0m \u001b[1;32min\u001b[0m \u001b[0mteam2players\u001b[0m\u001b[1;33m:\u001b[0m\u001b[1;33m\u001b[0m\u001b[0m\n",
      "\u001b[1;31mValueError\u001b[0m: list.remove(x): x not in list"
     ]
    }
   ],
   "source": [
    "team1players = {}\n",
    "team2players = {}\n",
    "t1Active = []\n",
    "t2Active = []\n",
    "team1 = ''\n",
    "team2 = ''\n",
    "bigList1 = []\n",
    "bigList2 = []\n",
    "for i, row in lineup0.iterrows():\n",
    "    if i < 10:\n",
    "        if i < 5:\n",
    "            team1players[row['Person_id']] = 0\n",
    "            t1Active.append(row['Person_id'])\n",
    "            team1 = row[\"Team_id\"]\n",
    "        else:\n",
    "            team2players[row['Person_id']] = 0\n",
    "            t2Active.append(row['Person_id'])\n",
    "            team2 = row[\"Team_id\"]\n",
    "bigList1.append(t1Active)\n",
    "bigList2.append(t2Active)\n",
    "print(t1Active)\n",
    "print(t2Active)\n",
    "subsInFoul = deque()\n",
    "flag = False\n",
    "for i, event in df.iterrows():\n",
    "    event_type = event['Event_Msg_Type']\n",
    "    if event_type == 6:\n",
    "        flag = True\n",
    "    if event_type == 8:\n",
    "        if not flag:\n",
    "            person1 = event['Person1']\n",
    "            person2 = event['Person2']\n",
    "            print(event['Team_id'])\n",
    "            print(team2)\n",
    "            if event['Team_id'] == team1:\n",
    "                t1Active.remove(person1)\n",
    "                t1Active.append(person2)\n",
    "                if person2 not in team1players:\n",
    "                    team1players[person2] = 0\n",
    "            else:\n",
    "                print(person1)\n",
    "                print(t2Active)\n",
    "                t2Active.remove(person1)\n",
    "                t2Active.append(person2)\n",
    "                if person2 not in team2players:\n",
    "                    team2players[person2] = 0\n",
    "        else:\n",
    "            person1 = event['Person1']\n",
    "            person2 = event['Person2']\n",
    "            subsInFoul.append((person1, person2, event['Team_id']))\n",
    "    if flag == True and (event_type == 1 or event_type == 2 or event_type == 4 or event_type == 5 or event_type == 10):\n",
    "        flag = False\n",
    "        while len(subsInFoul) != 0:\n",
    "            sub = subsInFoul.popleft()\n",
    "            if sub[2] == team1:\n",
    "                t1Active.remove(sub[0])\n",
    "                t1Active.append(sub[1])\n",
    "                if sub[1] not in team1players:\n",
    "                    team1players[sub[1]] = 0\n",
    "            else:\n",
    "                t2Active.remove(sub[0])\n",
    "                t2Active.append(sub[1])\n",
    "                if sub[1] not in team2players:\n",
    "                    team2players[sub[1]] = 0\n",
    "    bigList1.append(t1Active)\n",
    "    bigList2.append(t2Active)"
   ]
  }
 ],
 "metadata": {
  "kernelspec": {
   "display_name": "Python 3",
   "language": "python",
   "name": "python3"
  },
  "language_info": {
   "codemirror_mode": {
    "name": "ipython",
    "version": 3
   },
   "file_extension": ".py",
   "mimetype": "text/x-python",
   "name": "python",
   "nbconvert_exporter": "python",
   "pygments_lexer": "ipython3",
   "version": "3.6.3"
  }
 },
 "nbformat": 4,
 "nbformat_minor": 2
}
