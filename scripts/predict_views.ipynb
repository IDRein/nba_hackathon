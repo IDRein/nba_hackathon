{
 "cells": [
  {
   "cell_type": "code",
   "execution_count": 108,
   "metadata": {},
   "outputs": [],
   "source": [
    "import pandas as pd\n",
    "import numpy as np\n",
    "from sklearn.metrics import make_scorer\n",
    "from sklearn.ensemble import RandomForestRegressor\n",
    "from sklearn.preprocessing import LabelEncoder\n",
    "from sklearn.model_selection import RandomizedSearchCV\n",
    "from sklearn.model_selection import GridSearchCV"
   ]
  },
  {
   "cell_type": "code",
   "execution_count": 109,
   "metadata": {},
   "outputs": [],
   "source": [
    "def mape(y, y_pred):\n",
    "    return np.mean(np.abs((y - y_pred) / y)) * 100\n",
    "mape_scorer = make_scorer(mape, greater_is_better = False)"
   ]
  },
  {
   "cell_type": "markdown",
   "metadata": {},
   "source": [
    "## Load Data"
   ]
  },
  {
   "cell_type": "code",
   "execution_count": 110,
   "metadata": {},
   "outputs": [],
   "source": [
    "train = pd.read_csv(\"../data/training_set.csv\")\n",
    "train_y = np.ravel(train.groupby(by = [\"Game_ID\"]).sum().values)\n",
    "train = train.drop([\"Country\", \"Rounded Viewers\", \"Game_ID\"], axis = 1)\n",
    "test = pd.read_csv(\"../data/test_set.csv\").drop(\"Total_Viewers\", axis = 1)\n",
    "ids = test.pop(\"Game_ID\")\n",
    "game_data = pd.read_csv(\"../data/game_data.csv\")\n",
    "player_data = pd.read_csv(\"../data/player_data.csv\")"
   ]
  },
  {
   "cell_type": "markdown",
   "metadata": {},
   "source": [
    "## Preprocess"
   ]
  },
  {
   "cell_type": "code",
   "execution_count": 111,
   "metadata": {},
   "outputs": [],
   "source": [
    "for column in [\"Away_Team\", \"Home_Team\"]:\n",
    "    train[column] = train[column].astype('category')\n",
    "\n",
    "t1 = train.drop_duplicates().reset_index().drop(\"index\", axis = 1)\n",
    "t2 = pd.get_dummies(t1, columns = [\"Away_Team\", \"Home_Team\"])\n",
    "season_encoder = LabelEncoder()\n",
    "date_encoder = LabelEncoder()\n",
    "t2[\"Season\"] = season_encoder.fit_transform(t2[\"Season\"])\n",
    "t2[\"Game_Date\"] = date_encoder.fit_transform(t2[\"Game_Date\"])\n",
    "test[\"Season\"] = season_encoder.transform(test[\"Season\"])\n",
    "test[\"Game_Date\"] = date_encoder.transform(test[\"Game_Date\"])\n",
    "test = pd.get_dummies(test, columns = [\"Away_Team\", \"Home_Team\"])"
   ]
  },
  {
   "cell_type": "markdown",
   "metadata": {},
   "source": [
    "## Model"
   ]
  },
  {
   "cell_type": "code",
   "execution_count": 112,
   "metadata": {},
   "outputs": [
    {
     "name": "stdout",
     "output_type": "stream",
     "text": [
      "Fitting 5 folds for each of 6 candidates, totalling 30 fits\n"
     ]
    },
    {
     "name": "stderr",
     "output_type": "stream",
     "text": [
      "[Parallel(n_jobs=1)]: Done  30 out of  30 | elapsed:   36.8s finished\n"
     ]
    },
    {
     "name": "stdout",
     "output_type": "stream",
     "text": [
      "Wall time: 37.8 s\n"
     ]
    }
   ],
   "source": [
    "%%time\n",
    "model = RandomForestRegressor(n_jobs = 4)\n",
    "\n",
    "params = {'max_depth'        : [None],\n",
    "          'criterion'        : ['mae'],\n",
    "          'min_samples_leaf' : [30],\n",
    "          'min_samples_split': [100],\n",
    "          'n_estimators'     : [40, 50, 60, 70, 80, 90]}\n",
    "grid_search = GridSearchCV(estimator = model, cv = 5, verbose = 1, \n",
    "                           param_grid = params, scoring = mape_scorer, \n",
    "                           return_train_score = True, refit = True)\n",
    "grid_search.fit(X = t2, y = train_y)"
   ]
  },
  {
   "cell_type": "code",
   "execution_count": 113,
   "metadata": {},
   "outputs": [
    {
     "data": {
      "text/plain": [
       "{'criterion': 'mae',\n",
       " 'max_depth': None,\n",
       " 'min_samples_leaf': 30,\n",
       " 'min_samples_split': 100,\n",
       " 'n_estimators': 40}"
      ]
     },
     "execution_count": 113,
     "metadata": {},
     "output_type": "execute_result"
    }
   ],
   "source": [
    "grid_search.best_params_"
   ]
  },
  {
   "cell_type": "code",
   "execution_count": 117,
   "metadata": {},
   "outputs": [],
   "source": [
    "predictions = pd.Series(grid_search.predict(test))\n",
    "testOut = pd.read_csv(\"../data/test_set.csv\")\n",
    "testOut[\"Total_Viewers\"] = predictions.values\n",
    "testOut.to_csv(\"../submit/test_set_Organic_Bike.csv\")"
   ]
  }
 ],
 "metadata": {
  "kernelspec": {
   "display_name": "Python 3",
   "language": "python",
   "name": "python3"
  },
  "language_info": {
   "codemirror_mode": {
    "name": "ipython",
    "version": 3
   },
   "file_extension": ".py",
   "mimetype": "text/x-python",
   "name": "python",
   "nbconvert_exporter": "python",
   "pygments_lexer": "ipython3",
   "version": "3.6.3"
  }
 },
 "nbformat": 4,
 "nbformat_minor": 2
}
